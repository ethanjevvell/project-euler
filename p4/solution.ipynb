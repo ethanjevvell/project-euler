{
 "cells": [
  {
   "cell_type": "code",
   "execution_count": 2,
   "metadata": {},
   "outputs": [
    {
     "name": "stdout",
     "output_type": "stream",
     "text": [
      "True\n"
     ]
    }
   ],
   "source": [
    "def is_palindrome(num):\n",
    "  num_string = str(num)\n",
    "  return num_string == num_string[::-1]\n",
    "\n",
    "print(is_palindrome(101))"
   ]
  },
  {
   "cell_type": "code",
   "execution_count": 10,
   "metadata": {},
   "outputs": [
    {
     "name": "stdout",
     "output_type": "stream",
     "text": [
      "906609\n"
     ]
    }
   ],
   "source": [
    "a = 990\n",
    "b = 999\n",
    "\n",
    "results = {}\n",
    "\n",
    "while a >= 100:\n",
    "  while b >= 100:\n",
    "    if (b, a) not in results:\n",
    "      product = a * b\n",
    "      results[(a, b)] = (is_palindrome(product), product)\n",
    "    b -= 1\n",
    "  a -= 11\n",
    "  b = 999\n",
    "\n",
    "palindromes = [num[1] for num in results.values() if num[0] == True]\n",
    "print(sorted(palindromes, reverse=True)[0])"
   ]
  },
  {
   "cell_type": "code",
   "execution_count": 11,
   "metadata": {},
   "outputs": [
    {
     "name": "stdout",
     "output_type": "stream",
     "text": [
      "Largest palindromic number: 906609\n"
     ]
    }
   ],
   "source": [
    "def is_palindrome(n):\n",
    "    return str(n) == str(n)[::-1]\n",
    "\n",
    "max_palindrome = 0\n",
    "for a in range(999, 100, -1):\n",
    "    if a * 999 < max_palindrome:\n",
    "        break  # No need to continue if the maximum possible product is smaller than found\n",
    "    for b in range(999, 100, -1):\n",
    "        product = a * b\n",
    "        if product < max_palindrome:\n",
    "            break  # Further decreasing b will only get smaller products\n",
    "        if is_palindrome(product):\n",
    "            max_palindrome = max(max_palindrome, product)\n",
    "\n",
    "print(\"Largest palindromic number:\", max_palindrome)\n"
   ]
  },
  {
   "cell_type": "code",
   "execution_count": null,
   "metadata": {},
   "outputs": [],
   "source": []
  }
 ],
 "metadata": {
  "kernelspec": {
   "display_name": "Python 3",
   "language": "python",
   "name": "python3"
  },
  "language_info": {
   "codemirror_mode": {
    "name": "ipython",
    "version": 3
   },
   "file_extension": ".py",
   "mimetype": "text/x-python",
   "name": "python",
   "nbconvert_exporter": "python",
   "pygments_lexer": "ipython3",
   "version": "3.11.8"
  }
 },
 "nbformat": 4,
 "nbformat_minor": 2
}
