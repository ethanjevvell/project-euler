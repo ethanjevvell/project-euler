{
 "cells": [
  {
   "cell_type": "code",
   "execution_count": 3,
   "metadata": {},
   "outputs": [
    {
     "name": "stdout",
     "output_type": "stream",
     "text": [
      "100.0\n"
     ]
    }
   ],
   "source": [
    "# The sum of an arithmetic sequence\n",
    "def square_of_sum(sequence):\n",
    "  n = len(sequence)\n",
    "  a_1 = sequence[0]\n",
    "  a_n = sequence[-1]\n",
    "  sum = n * ((a_1 + a_n) / 2)\n",
    "  return sum * sum\n",
    "\n",
    "print(square_of_sum(range(0, 5)))"
   ]
  },
  {
   "cell_type": "code",
   "execution_count": 4,
   "metadata": {},
   "outputs": [],
   "source": [
    "# Special case: Sum of Squares sequence: https://proofwiki.org/wiki/Sum_of_Sequence_of_Squares\n",
    "def sum_of_squares(sequence):\n",
    "  n = len(sequence)\n",
    "  numerator = n * (n + 1) * (2 * n + 1)\n",
    "  denominator = 6\n",
    "  return numerator / denominator"
   ]
  },
  {
   "cell_type": "code",
   "execution_count": 5,
   "metadata": {},
   "outputs": [
    {
     "data": {
      "text/plain": [
       "385.0"
      ]
     },
     "execution_count": 5,
     "metadata": {},
     "output_type": "execute_result"
    }
   ],
   "source": [
    "sum_of_squares(range(1, 11))"
   ]
  },
  {
   "cell_type": "code",
   "execution_count": 7,
   "metadata": {},
   "outputs": [
    {
     "data": {
      "text/plain": [
       "-25164150.0"
      ]
     },
     "execution_count": 7,
     "metadata": {},
     "output_type": "execute_result"
    }
   ],
   "source": [
    "sequence = list(range(1, 101))\n",
    "sum_of_squares(sequence) - square_of_sum(sequence)"
   ]
  },
  {
   "cell_type": "code",
   "execution_count": null,
   "metadata": {},
   "outputs": [],
   "source": []
  }
 ],
 "metadata": {
  "kernelspec": {
   "display_name": "Python 3",
   "language": "python",
   "name": "python3"
  },
  "language_info": {
   "codemirror_mode": {
    "name": "ipython",
    "version": 3
   },
   "file_extension": ".py",
   "mimetype": "text/x-python",
   "name": "python",
   "nbconvert_exporter": "python",
   "pygments_lexer": "ipython3",
   "version": "3.11.8"
  }
 },
 "nbformat": 4,
 "nbformat_minor": 2
}
