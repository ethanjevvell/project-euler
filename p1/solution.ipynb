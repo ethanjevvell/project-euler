{
 "cells": [
  {
   "cell_type": "code",
   "execution_count": 7,
   "metadata": {},
   "outputs": [
    {
     "name": "stdout",
     "output_type": "stream",
     "text": [
      "233168\n"
     ]
    }
   ],
   "source": [
    "# Naive solution\n",
    "three_multiples = set(n for n in range(3, 1000, 3))\n",
    "five_multiples = set(n for n in range(5, 1000, 5))\n",
    "multiples = set.union(three_multiples, five_multiples)\n",
    "print(sum(multiples))"
   ]
  },
  {
   "cell_type": "code",
   "execution_count": 9,
   "metadata": {},
   "outputs": [
    {
     "name": "stdout",
     "output_type": "stream",
     "text": [
      "233168\n"
     ]
    }
   ],
   "source": [
    "# Arithmetic progression\n",
    "def sum_of_multiples(a, n, d):\n",
    "  return (n * (2*a + (n - 1) * d)) // 2\n",
    "\n",
    "a3, n3, d3 = 3, 999 // 3, 3\n",
    "a5, n5, d5 = 5, 995 // 5, 5\n",
    "a15, n15, d15 = 15, 990 // 15, 15\n",
    "\n",
    "S3 = sum_of_multiples(a3, n3, d3)\n",
    "S5 = sum_of_multiples(a5, n5, d5)\n",
    "S15 = sum_of_multiples(a15, n15, d15)\n",
    "\n",
    "print(S3 + S5 - S15)"
   ]
  },
  {
   "cell_type": "markdown",
   "metadata": {},
   "source": []
  }
 ],
 "metadata": {
  "kernelspec": {
   "display_name": "Python 3",
   "language": "python",
   "name": "python3"
  },
  "language_info": {
   "codemirror_mode": {
    "name": "ipython",
    "version": 3
   },
   "file_extension": ".py",
   "mimetype": "text/x-python",
   "name": "python",
   "nbconvert_exporter": "python",
   "pygments_lexer": "ipython3",
   "version": "3.11.8"
  }
 },
 "nbformat": 4,
 "nbformat_minor": 2
}
